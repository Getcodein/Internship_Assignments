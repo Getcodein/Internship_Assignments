{
 "cells": [
  {
   "cell_type": "code",
   "execution_count": 125,
   "id": "2c3c6d8d",
   "metadata": {},
   "outputs": [],
   "source": [
    "import pandas as pd\n",
    "import numpy as np\n",
    "import seaborn as sns"
   ]
  },
  {
   "cell_type": "code",
   "execution_count": 126,
   "id": "3d58a3d4",
   "metadata": {},
   "outputs": [],
   "source": [
    "df=pd.read_csv(\"medical_cost_insurance.csv\")"
   ]
  },
  {
   "cell_type": "code",
   "execution_count": 127,
   "id": "d1c72b34",
   "metadata": {},
   "outputs": [
    {
     "data": {
      "text/html": [
       "<div>\n",
       "<style scoped>\n",
       "    .dataframe tbody tr th:only-of-type {\n",
       "        vertical-align: middle;\n",
       "    }\n",
       "\n",
       "    .dataframe tbody tr th {\n",
       "        vertical-align: top;\n",
       "    }\n",
       "\n",
       "    .dataframe thead th {\n",
       "        text-align: right;\n",
       "    }\n",
       "</style>\n",
       "<table border=\"1\" class=\"dataframe\">\n",
       "  <thead>\n",
       "    <tr style=\"text-align: right;\">\n",
       "      <th></th>\n",
       "      <th>age</th>\n",
       "      <th>sex</th>\n",
       "      <th>bmi</th>\n",
       "      <th>children</th>\n",
       "      <th>smoker</th>\n",
       "      <th>region</th>\n",
       "      <th>charges</th>\n",
       "    </tr>\n",
       "  </thead>\n",
       "  <tbody>\n",
       "    <tr>\n",
       "      <th>0</th>\n",
       "      <td>19</td>\n",
       "      <td>female</td>\n",
       "      <td>27.900</td>\n",
       "      <td>0</td>\n",
       "      <td>yes</td>\n",
       "      <td>southwest</td>\n",
       "      <td>16884.92400</td>\n",
       "    </tr>\n",
       "    <tr>\n",
       "      <th>1</th>\n",
       "      <td>18</td>\n",
       "      <td>male</td>\n",
       "      <td>33.770</td>\n",
       "      <td>1</td>\n",
       "      <td>no</td>\n",
       "      <td>southeast</td>\n",
       "      <td>1725.55230</td>\n",
       "    </tr>\n",
       "    <tr>\n",
       "      <th>2</th>\n",
       "      <td>28</td>\n",
       "      <td>male</td>\n",
       "      <td>33.000</td>\n",
       "      <td>3</td>\n",
       "      <td>no</td>\n",
       "      <td>southeast</td>\n",
       "      <td>4449.46200</td>\n",
       "    </tr>\n",
       "    <tr>\n",
       "      <th>3</th>\n",
       "      <td>33</td>\n",
       "      <td>male</td>\n",
       "      <td>22.705</td>\n",
       "      <td>0</td>\n",
       "      <td>no</td>\n",
       "      <td>northwest</td>\n",
       "      <td>21984.47061</td>\n",
       "    </tr>\n",
       "    <tr>\n",
       "      <th>4</th>\n",
       "      <td>32</td>\n",
       "      <td>male</td>\n",
       "      <td>28.880</td>\n",
       "      <td>0</td>\n",
       "      <td>no</td>\n",
       "      <td>northwest</td>\n",
       "      <td>3866.85520</td>\n",
       "    </tr>\n",
       "    <tr>\n",
       "      <th>...</th>\n",
       "      <td>...</td>\n",
       "      <td>...</td>\n",
       "      <td>...</td>\n",
       "      <td>...</td>\n",
       "      <td>...</td>\n",
       "      <td>...</td>\n",
       "      <td>...</td>\n",
       "    </tr>\n",
       "    <tr>\n",
       "      <th>1333</th>\n",
       "      <td>50</td>\n",
       "      <td>male</td>\n",
       "      <td>30.970</td>\n",
       "      <td>3</td>\n",
       "      <td>no</td>\n",
       "      <td>northwest</td>\n",
       "      <td>10600.54830</td>\n",
       "    </tr>\n",
       "    <tr>\n",
       "      <th>1334</th>\n",
       "      <td>18</td>\n",
       "      <td>female</td>\n",
       "      <td>31.920</td>\n",
       "      <td>0</td>\n",
       "      <td>no</td>\n",
       "      <td>northeast</td>\n",
       "      <td>2205.98080</td>\n",
       "    </tr>\n",
       "    <tr>\n",
       "      <th>1335</th>\n",
       "      <td>18</td>\n",
       "      <td>female</td>\n",
       "      <td>36.850</td>\n",
       "      <td>0</td>\n",
       "      <td>no</td>\n",
       "      <td>southeast</td>\n",
       "      <td>1629.83350</td>\n",
       "    </tr>\n",
       "    <tr>\n",
       "      <th>1336</th>\n",
       "      <td>21</td>\n",
       "      <td>female</td>\n",
       "      <td>25.800</td>\n",
       "      <td>0</td>\n",
       "      <td>no</td>\n",
       "      <td>southwest</td>\n",
       "      <td>2007.94500</td>\n",
       "    </tr>\n",
       "    <tr>\n",
       "      <th>1337</th>\n",
       "      <td>61</td>\n",
       "      <td>female</td>\n",
       "      <td>29.070</td>\n",
       "      <td>0</td>\n",
       "      <td>yes</td>\n",
       "      <td>northwest</td>\n",
       "      <td>29141.36030</td>\n",
       "    </tr>\n",
       "  </tbody>\n",
       "</table>\n",
       "<p>1338 rows × 7 columns</p>\n",
       "</div>"
      ],
      "text/plain": [
       "      age     sex     bmi  children smoker     region      charges\n",
       "0      19  female  27.900         0    yes  southwest  16884.92400\n",
       "1      18    male  33.770         1     no  southeast   1725.55230\n",
       "2      28    male  33.000         3     no  southeast   4449.46200\n",
       "3      33    male  22.705         0     no  northwest  21984.47061\n",
       "4      32    male  28.880         0     no  northwest   3866.85520\n",
       "...   ...     ...     ...       ...    ...        ...          ...\n",
       "1333   50    male  30.970         3     no  northwest  10600.54830\n",
       "1334   18  female  31.920         0     no  northeast   2205.98080\n",
       "1335   18  female  36.850         0     no  southeast   1629.83350\n",
       "1336   21  female  25.800         0     no  southwest   2007.94500\n",
       "1337   61  female  29.070         0    yes  northwest  29141.36030\n",
       "\n",
       "[1338 rows x 7 columns]"
      ]
     },
     "execution_count": 127,
     "metadata": {},
     "output_type": "execute_result"
    }
   ],
   "source": [
    "df"
   ]
  },
  {
   "cell_type": "code",
   "execution_count": 128,
   "id": "963dee86",
   "metadata": {},
   "outputs": [
    {
     "data": {
      "text/plain": [
       "Index(['age', 'sex', 'bmi', 'children', 'smoker', 'region', 'charges'], dtype='object')"
      ]
     },
     "execution_count": 128,
     "metadata": {},
     "output_type": "execute_result"
    }
   ],
   "source": [
    "df.columns\n"
   ]
  },
  {
   "cell_type": "code",
   "execution_count": 129,
   "id": "cd79a24e",
   "metadata": {},
   "outputs": [
    {
     "data": {
      "text/plain": [
       "age         0\n",
       "sex         0\n",
       "bmi         0\n",
       "children    0\n",
       "smoker      0\n",
       "region      0\n",
       "charges     0\n",
       "dtype: int64"
      ]
     },
     "execution_count": 129,
     "metadata": {},
     "output_type": "execute_result"
    }
   ],
   "source": [
    "df.columns\n",
    "#checking out null values in datasets (np.nan, None, NAN,others)\n",
    "df.isnull().sum()"
   ]
  },
  {
   "cell_type": "code",
   "execution_count": 130,
   "id": "fd1dd41a",
   "metadata": {},
   "outputs": [
    {
     "data": {
      "text/plain": [
       "age           int64\n",
       "sex          object\n",
       "bmi         float64\n",
       "children      int64\n",
       "smoker       object\n",
       "region       object\n",
       "charges     float64\n",
       "dtype: object"
      ]
     },
     "execution_count": 130,
     "metadata": {},
     "output_type": "execute_result"
    }
   ],
   "source": [
    "#checking out the data types of each columns in datasets\n",
    "\n",
    "df.dtypes"
   ]
  },
  {
   "cell_type": "code",
   "execution_count": 131,
   "id": "629d8729",
   "metadata": {},
   "outputs": [
    {
     "data": {
      "text/html": [
       "<div>\n",
       "<style scoped>\n",
       "    .dataframe tbody tr th:only-of-type {\n",
       "        vertical-align: middle;\n",
       "    }\n",
       "\n",
       "    .dataframe tbody tr th {\n",
       "        vertical-align: top;\n",
       "    }\n",
       "\n",
       "    .dataframe thead th {\n",
       "        text-align: right;\n",
       "    }\n",
       "</style>\n",
       "<table border=\"1\" class=\"dataframe\">\n",
       "  <thead>\n",
       "    <tr style=\"text-align: right;\">\n",
       "      <th></th>\n",
       "      <th>age</th>\n",
       "      <th>sex</th>\n",
       "      <th>bmi</th>\n",
       "      <th>children</th>\n",
       "      <th>smoker</th>\n",
       "      <th>region</th>\n",
       "      <th>charges</th>\n",
       "    </tr>\n",
       "  </thead>\n",
       "  <tbody>\n",
       "  </tbody>\n",
       "</table>\n",
       "</div>"
      ],
      "text/plain": [
       "Empty DataFrame\n",
       "Columns: [age, sex, bmi, children, smoker, region, charges]\n",
       "Index: []"
      ]
     },
     "execution_count": 131,
     "metadata": {},
     "output_type": "execute_result"
    }
   ],
   "source": [
    "#checking out the data types of each columns in datasets\n",
    "\n",
    "df.loc[df['charges']==\" \"]"
   ]
  },
  {
   "cell_type": "code",
   "execution_count": 132,
   "id": "11c42226",
   "metadata": {},
   "outputs": [
    {
     "data": {
      "text/html": [
       "<div>\n",
       "<style scoped>\n",
       "    .dataframe tbody tr th:only-of-type {\n",
       "        vertical-align: middle;\n",
       "    }\n",
       "\n",
       "    .dataframe tbody tr th {\n",
       "        vertical-align: top;\n",
       "    }\n",
       "\n",
       "    .dataframe thead th {\n",
       "        text-align: right;\n",
       "    }\n",
       "</style>\n",
       "<table border=\"1\" class=\"dataframe\">\n",
       "  <thead>\n",
       "    <tr style=\"text-align: right;\">\n",
       "      <th></th>\n",
       "      <th>age</th>\n",
       "      <th>bmi</th>\n",
       "      <th>children</th>\n",
       "      <th>charges</th>\n",
       "    </tr>\n",
       "  </thead>\n",
       "  <tbody>\n",
       "    <tr>\n",
       "      <th>count</th>\n",
       "      <td>1338.000000</td>\n",
       "      <td>1338.000000</td>\n",
       "      <td>1338.000000</td>\n",
       "      <td>1338.000000</td>\n",
       "    </tr>\n",
       "    <tr>\n",
       "      <th>mean</th>\n",
       "      <td>39.207025</td>\n",
       "      <td>30.663397</td>\n",
       "      <td>1.094918</td>\n",
       "      <td>13270.422265</td>\n",
       "    </tr>\n",
       "    <tr>\n",
       "      <th>std</th>\n",
       "      <td>14.049960</td>\n",
       "      <td>6.098187</td>\n",
       "      <td>1.205493</td>\n",
       "      <td>12110.011237</td>\n",
       "    </tr>\n",
       "    <tr>\n",
       "      <th>min</th>\n",
       "      <td>18.000000</td>\n",
       "      <td>15.960000</td>\n",
       "      <td>0.000000</td>\n",
       "      <td>1121.873900</td>\n",
       "    </tr>\n",
       "    <tr>\n",
       "      <th>25%</th>\n",
       "      <td>27.000000</td>\n",
       "      <td>26.296250</td>\n",
       "      <td>0.000000</td>\n",
       "      <td>4740.287150</td>\n",
       "    </tr>\n",
       "    <tr>\n",
       "      <th>50%</th>\n",
       "      <td>39.000000</td>\n",
       "      <td>30.400000</td>\n",
       "      <td>1.000000</td>\n",
       "      <td>9382.033000</td>\n",
       "    </tr>\n",
       "    <tr>\n",
       "      <th>75%</th>\n",
       "      <td>51.000000</td>\n",
       "      <td>34.693750</td>\n",
       "      <td>2.000000</td>\n",
       "      <td>16639.912515</td>\n",
       "    </tr>\n",
       "    <tr>\n",
       "      <th>max</th>\n",
       "      <td>64.000000</td>\n",
       "      <td>53.130000</td>\n",
       "      <td>5.000000</td>\n",
       "      <td>63770.428010</td>\n",
       "    </tr>\n",
       "  </tbody>\n",
       "</table>\n",
       "</div>"
      ],
      "text/plain": [
       "               age          bmi     children       charges\n",
       "count  1338.000000  1338.000000  1338.000000   1338.000000\n",
       "mean     39.207025    30.663397     1.094918  13270.422265\n",
       "std      14.049960     6.098187     1.205493  12110.011237\n",
       "min      18.000000    15.960000     0.000000   1121.873900\n",
       "25%      27.000000    26.296250     0.000000   4740.287150\n",
       "50%      39.000000    30.400000     1.000000   9382.033000\n",
       "75%      51.000000    34.693750     2.000000  16639.912515\n",
       "max      64.000000    53.130000     5.000000  63770.428010"
      ]
     },
     "execution_count": 132,
     "metadata": {},
     "output_type": "execute_result"
    }
   ],
   "source": [
    "df.describe()\n"
   ]
  },
  {
   "cell_type": "code",
   "execution_count": null,
   "id": "0f248470",
   "metadata": {},
   "outputs": [],
   "source": []
  },
  {
   "cell_type": "code",
   "execution_count": 133,
   "id": "9af47a1c",
   "metadata": {},
   "outputs": [
    {
     "data": {
      "text/plain": [
       "<AxesSubplot:>"
      ]
     },
     "execution_count": 133,
     "metadata": {},
     "output_type": "execute_result"
    },
    {
     "data": {
      "image/png": "[encoded data removed]",
      "text/plain": [
       "<Figure size 432x288 with 1 Axes>"
      ]
     },
     "metadata": {
      "needs_background": "light"
     },
     "output_type": "display_data"
    }
   ],
   "source": [
    "#checking otlier as there is large difference in 75th percentile and max\n",
    "df['bmi'].plot.box()"
   ]
  },
  {
   "cell_type": "code",
   "execution_count": 134,
   "id": "62b607c9",
   "metadata": {},
   "outputs": [],
   "source": [
    "#making a dataframe of nominal data\n",
    "df_visualization_nominal=df[['sex', 'smoker', 'region']].copy()"
   ]
  },
  {
   "cell_type": "code",
   "execution_count": 135,
   "id": "9c638a56",
   "metadata": {},
   "outputs": [
    {
     "data": {
      "text/html": [
       "<div>\n",
       "<style scoped>\n",
       "    .dataframe tbody tr th:only-of-type {\n",
       "        vertical-align: middle;\n",
       "    }\n",
       "\n",
       "    .dataframe tbody tr th {\n",
       "        vertical-align: top;\n",
       "    }\n",
       "\n",
       "    .dataframe thead th {\n",
       "        text-align: right;\n",
       "    }\n",
       "</style>\n",
       "<table border=\"1\" class=\"dataframe\">\n",
       "  <thead>\n",
       "    <tr style=\"text-align: right;\">\n",
       "      <th></th>\n",
       "      <th>sex</th>\n",
       "      <th>smoker</th>\n",
       "      <th>region</th>\n",
       "    </tr>\n",
       "  </thead>\n",
       "  <tbody>\n",
       "    <tr>\n",
       "      <th>0</th>\n",
       "      <td>female</td>\n",
       "      <td>yes</td>\n",
       "      <td>southwest</td>\n",
       "    </tr>\n",
       "    <tr>\n",
       "      <th>1</th>\n",
       "      <td>male</td>\n",
       "      <td>no</td>\n",
       "      <td>southeast</td>\n",
       "    </tr>\n",
       "    <tr>\n",
       "      <th>2</th>\n",
       "      <td>male</td>\n",
       "      <td>no</td>\n",
       "      <td>southeast</td>\n",
       "    </tr>\n",
       "    <tr>\n",
       "      <th>3</th>\n",
       "      <td>male</td>\n",
       "      <td>no</td>\n",
       "      <td>northwest</td>\n",
       "    </tr>\n",
       "    <tr>\n",
       "      <th>4</th>\n",
       "      <td>male</td>\n",
       "      <td>no</td>\n",
       "      <td>northwest</td>\n",
       "    </tr>\n",
       "    <tr>\n",
       "      <th>...</th>\n",
       "      <td>...</td>\n",
       "      <td>...</td>\n",
       "      <td>...</td>\n",
       "    </tr>\n",
       "    <tr>\n",
       "      <th>1333</th>\n",
       "      <td>male</td>\n",
       "      <td>no</td>\n",
       "      <td>northwest</td>\n",
       "    </tr>\n",
       "    <tr>\n",
       "      <th>1334</th>\n",
       "      <td>female</td>\n",
       "      <td>no</td>\n",
       "      <td>northeast</td>\n",
       "    </tr>\n",
       "    <tr>\n",
       "      <th>1335</th>\n",
       "      <td>female</td>\n",
       "      <td>no</td>\n",
       "      <td>southeast</td>\n",
       "    </tr>\n",
       "    <tr>\n",
       "      <th>1336</th>\n",
       "      <td>female</td>\n",
       "      <td>no</td>\n",
       "      <td>southwest</td>\n",
       "    </tr>\n",
       "    <tr>\n",
       "      <th>1337</th>\n",
       "      <td>female</td>\n",
       "      <td>yes</td>\n",
       "      <td>northwest</td>\n",
       "    </tr>\n",
       "  </tbody>\n",
       "</table>\n",
       "<p>1338 rows × 3 columns</p>\n",
       "</div>"
      ],
      "text/plain": [
       "         sex smoker     region\n",
       "0     female    yes  southwest\n",
       "1       male     no  southeast\n",
       "2       male     no  southeast\n",
       "3       male     no  northwest\n",
       "4       male     no  northwest\n",
       "...      ...    ...        ...\n",
       "1333    male     no  northwest\n",
       "1334  female     no  northeast\n",
       "1335  female     no  southeast\n",
       "1336  female     no  southwest\n",
       "1337  female    yes  northwest\n",
       "\n",
       "[1338 rows x 3 columns]"
      ]
     },
     "execution_count": 135,
     "metadata": {},
     "output_type": "execute_result"
    }
   ],
   "source": [
    "df_visualization_nominal"
   ]
  },
  {
   "cell_type": "code",
   "execution_count": 136,
   "id": "8bebc142",
   "metadata": {},
   "outputs": [
    {
     "name": "stdout",
     "output_type": "stream",
     "text": [
      "male      676\n",
      "female    662\n",
      "Name: sex, dtype: int64\n"
     ]
    },
    {
     "data": {
      "image/png": "[encoded data removed]",
      "text/plain": [
       "<Figure size 432x288 with 1 Axes>"
      ]
     },
     "metadata": {
      "needs_background": "light"
     },
     "output_type": "display_data"
    }
   ],
   "source": [
    "ax=sns.countplot(x=\"sex\",data=df_visualization_nominal)\n",
    "print(df_visualization_nominal[\"sex\"].value_counts())"
   ]
  },
  {
   "cell_type": "code",
   "execution_count": 137,
   "id": "e56a9123",
   "metadata": {},
   "outputs": [
    {
     "name": "stdout",
     "output_type": "stream",
     "text": [
      "no     1064\n",
      "yes     274\n",
      "Name: smoker, dtype: int64\n"
     ]
    },
    {
     "data": {
      "image/png": "[encoded data removed]",
      "text/plain": [
       "<Figure size 432x288 with 1 Axes>"
      ]
     },
     "metadata": {
      "needs_background": "light"
     },
     "output_type": "display_data"
    }
   ],
   "source": [
    "ax=sns.countplot(x=\"smoker\",data=df_visualization_nominal)\n",
    "print(df_visualization_nominal[\"smoker\"].value_counts())"
   ]
  },
  {
   "cell_type": "code",
   "execution_count": 138,
   "id": "ac222f44",
   "metadata": {},
   "outputs": [
    {
     "name": "stdout",
     "output_type": "stream",
     "text": [
      "southeast    364\n",
      "southwest    325\n",
      "northwest    325\n",
      "northeast    324\n",
      "Name: region, dtype: int64\n"
     ]
    },
    {
     "data": {
      "image/png": "[encoded data removed]",
      "text/plain": [
       "<Figure size 432x288 with 1 Axes>"
      ]
     },
     "metadata": {
      "needs_background": "light"
     },
     "output_type": "display_data"
    }
   ],
   "source": [
    "ax=sns.countplot(x=\"region\",data=df_visualization_nominal)\n",
    "print(df_visualization_nominal[\"region\"].value_counts())"
   ]
  },
  {
   "cell_type": "code",
   "execution_count": 139,
   "id": "c5634e15",
   "metadata": {},
   "outputs": [],
   "source": [
    "#making a dataframe of or datadinal\n",
    "df_visualization_ordinal=df[['age', 'children']].copy()"
   ]
  },
  {
   "cell_type": "code",
   "execution_count": 140,
   "id": "ed8567ba",
   "metadata": {},
   "outputs": [
    {
     "data": {
      "text/plain": [
       "<seaborn.axisgrid.FacetGrid at 0x2823d9c4250>"
      ]
     },
     "execution_count": 140,
     "metadata": {},
     "output_type": "execute_result"
    },
    {
     "data": {
      "image/png": "[encoded data removed]",
      "text/plain": [
       "<Figure size 360x360 with 1 Axes>"
      ]
     },
     "metadata": {
      "needs_background": "light"
     },
     "output_type": "display_data"
    }
   ],
   "source": [
    "sns.catplot(x=\"children\",y='age', data=df_visualization_ordinal)"
   ]
  },
  {
   "cell_type": "code",
   "execution_count": 141,
   "id": "b2cb503e",
   "metadata": {},
   "outputs": [],
   "source": [
    "#making a dataframe for continous column\n",
    "df_visualization_cont=df[['bmi', 'charges']].copy()"
   ]
  },
  {
   "cell_type": "code",
   "execution_count": 142,
   "id": "4b5fa00e",
   "metadata": {},
   "outputs": [
    {
     "data": {
      "text/plain": [
       "<seaborn.axisgrid.FacetGrid at 0x2823da27d00>"
      ]
     },
     "execution_count": 142,
     "metadata": {},
     "output_type": "execute_result"
    },
    {
     "data": {
      "image/png": "[encoded data removed]",
      "text/plain": [
       "<Figure size 360x360 with 1 Axes>"
      ]
     },
     "metadata": {
      "needs_background": "light"
     },
     "output_type": "display_data"
    }
   ],
   "source": [
    "sns.displot(df_visualization_cont['bmi'],kde=True)"
   ]
  },
  {
   "cell_type": "code",
   "execution_count": 143,
   "id": "49aa5fbb",
   "metadata": {},
   "outputs": [
    {
     "data": {
      "text/plain": [
       "<seaborn.axisgrid.FacetGrid at 0x2823b6cfa00>"
      ]
     },
     "execution_count": 143,
     "metadata": {},
     "output_type": "execute_result"
    },
    {
     "data": {
      "image/png": "[encoded data removed]",
      "text/plain": [
       "<Figure size 360x360 with 1 Axes>"
      ]
     },
     "metadata": {
      "needs_background": "light"
     },
     "output_type": "display_data"
    }
   ],
   "source": [
    "sns.displot(df_visualization_cont['charges'],kde=True)"
   ]
  },
  {
   "cell_type": "code",
   "execution_count": 144,
   "id": "4feb2353",
   "metadata": {},
   "outputs": [
    {
     "data": {
      "text/html": [
       "<div>\n",
       "<style scoped>\n",
       "    .dataframe tbody tr th:only-of-type {\n",
       "        vertical-align: middle;\n",
       "    }\n",
       "\n",
       "    .dataframe tbody tr th {\n",
       "        vertical-align: top;\n",
       "    }\n",
       "\n",
       "    .dataframe thead th {\n",
       "        text-align: right;\n",
       "    }\n",
       "</style>\n",
       "<table border=\"1\" class=\"dataframe\">\n",
       "  <thead>\n",
       "    <tr style=\"text-align: right;\">\n",
       "      <th></th>\n",
       "      <th>age</th>\n",
       "      <th>bmi</th>\n",
       "      <th>children</th>\n",
       "      <th>charges</th>\n",
       "    </tr>\n",
       "  </thead>\n",
       "  <tbody>\n",
       "    <tr>\n",
       "      <th>count</th>\n",
       "      <td>1338.000000</td>\n",
       "      <td>1338.000000</td>\n",
       "      <td>1338.000000</td>\n",
       "      <td>1338.000000</td>\n",
       "    </tr>\n",
       "    <tr>\n",
       "      <th>mean</th>\n",
       "      <td>39.207025</td>\n",
       "      <td>30.663397</td>\n",
       "      <td>1.094918</td>\n",
       "      <td>13270.422265</td>\n",
       "    </tr>\n",
       "    <tr>\n",
       "      <th>std</th>\n",
       "      <td>14.049960</td>\n",
       "      <td>6.098187</td>\n",
       "      <td>1.205493</td>\n",
       "      <td>12110.011237</td>\n",
       "    </tr>\n",
       "    <tr>\n",
       "      <th>min</th>\n",
       "      <td>18.000000</td>\n",
       "      <td>15.960000</td>\n",
       "      <td>0.000000</td>\n",
       "      <td>1121.873900</td>\n",
       "    </tr>\n",
       "    <tr>\n",
       "      <th>25%</th>\n",
       "      <td>27.000000</td>\n",
       "      <td>26.296250</td>\n",
       "      <td>0.000000</td>\n",
       "      <td>4740.287150</td>\n",
       "    </tr>\n",
       "    <tr>\n",
       "      <th>50%</th>\n",
       "      <td>39.000000</td>\n",
       "      <td>30.400000</td>\n",
       "      <td>1.000000</td>\n",
       "      <td>9382.033000</td>\n",
       "    </tr>\n",
       "    <tr>\n",
       "      <th>75%</th>\n",
       "      <td>51.000000</td>\n",
       "      <td>34.693750</td>\n",
       "      <td>2.000000</td>\n",
       "      <td>16639.912515</td>\n",
       "    </tr>\n",
       "    <tr>\n",
       "      <th>max</th>\n",
       "      <td>64.000000</td>\n",
       "      <td>53.130000</td>\n",
       "      <td>5.000000</td>\n",
       "      <td>63770.428010</td>\n",
       "    </tr>\n",
       "  </tbody>\n",
       "</table>\n",
       "</div>"
      ],
      "text/plain": [
       "               age          bmi     children       charges\n",
       "count  1338.000000  1338.000000  1338.000000   1338.000000\n",
       "mean     39.207025    30.663397     1.094918  13270.422265\n",
       "std      14.049960     6.098187     1.205493  12110.011237\n",
       "min      18.000000    15.960000     0.000000   1121.873900\n",
       "25%      27.000000    26.296250     0.000000   4740.287150\n",
       "50%      39.000000    30.400000     1.000000   9382.033000\n",
       "75%      51.000000    34.693750     2.000000  16639.912515\n",
       "max      64.000000    53.130000     5.000000  63770.428010"
      ]
     },
     "execution_count": 144,
     "metadata": {},
     "output_type": "execute_result"
    }
   ],
   "source": [
    "df.describe()\n"
   ]
  },
  {
   "cell_type": "code",
   "execution_count": 145,
   "id": "f23e79b3",
   "metadata": {},
   "outputs": [
    {
     "data": {
      "text/plain": [
       "<AxesSubplot:>"
      ]
     },
     "execution_count": 145,
     "metadata": {},
     "output_type": "execute_result"
    },
    {
     "data": {
      "image/png": "[encoded data removed]",
      "text/plain": [
       "<Figure size 1584x504 with 2 Axes>"
      ]
     },
     "metadata": {
      "needs_background": "light"
     },
     "output_type": "display_data"
    }
   ],
   "source": [
    "import matplotlib.pyplot as plt\n",
    "plt.figure(figsize=(22,7))\n",
    "sns.heatmap(df.describe(),annot=True,linecolor='black',fmt=\"0.2f\")"
   ]
  },
  {
   "cell_type": "code",
   "execution_count": 146,
   "id": "833d9319",
   "metadata": {},
   "outputs": [
    {
     "data": {
      "text/plain": [
       "children    0.067998\n",
       "bmi         0.198341\n",
       "age         0.299008\n",
       "charges     1.000000\n",
       "Name: charges, dtype: float64"
      ]
     },
     "execution_count": 146,
     "metadata": {},
     "output_type": "execute_result"
    }
   ],
   "source": [
    "df.corr()[\"charges\"].sort_values()"
   ]
  },
  {
   "cell_type": "code",
   "execution_count": 147,
   "id": "36ad7ca4",
   "metadata": {},
   "outputs": [
    {
     "data": {
      "text/plain": [
       "<AxesSubplot:>"
      ]
     },
     "execution_count": 147,
     "metadata": {},
     "output_type": "execute_result"
    },
    {
     "data": {
      "image/png": "[encoded data removed]",
      "text/plain": [
       "<Figure size 1584x504 with 2 Axes>"
      ]
     },
     "metadata": {
      "needs_background": "light"
     },
     "output_type": "display_data"
    }
   ],
   "source": [
    "plt.figure(figsize=(22,7))\n",
    "sns.heatmap(df.corr(),annot=True,linecolor='black',fmt=\"0.2f\")"
   ]
  },
  {
   "cell_type": "code",
   "execution_count": 148,
   "id": "2289b179",
   "metadata": {},
   "outputs": [
    {
     "data": {
      "text/plain": [
       "<function matplotlib.pyplot.show(close=None, block=None)>"
      ]
     },
     "execution_count": 148,
     "metadata": {},
     "output_type": "execute_result"
    },
    {
     "data": {
      "image/png": "[encoded data removed]",
      "text/plain": [
       "<Figure size 1584x504 with 1 Axes>"
      ]
     },
     "metadata": {
      "needs_background": "light"
     },
     "output_type": "display_data"
    }
   ],
   "source": [
    "plt.figure(figsize=(22,7))\n",
    "df.corr()['charges'].sort_values(ascending=False).drop([\"charges\"]).plot(kind='bar',color='c')\n",
    "plt.show"
   ]
  },
  {
   "cell_type": "code",
   "execution_count": 149,
   "id": "22436d4d",
   "metadata": {},
   "outputs": [
    {
     "name": "stderr",
     "output_type": "stream",
     "text": [
      "C:\\Users\\shilp\\AppData\\Local\\Temp/ipykernel_29856/1665899112.py:1: FutureWarning: Dropping of nuisance columns in DataFrame reductions (with 'numeric_only=None') is deprecated; in a future version this will raise TypeError.  Select only valid columns before calling the reduction.\n",
      "  df.skew()\n"
     ]
    },
    {
     "data": {
      "text/plain": [
       "age         0.055673\n",
       "bmi         0.284047\n",
       "children    0.938380\n",
       "charges     1.515880\n",
       "dtype: float64"
      ]
     },
     "execution_count": 149,
     "metadata": {},
     "output_type": "execute_result"
    }
   ],
   "source": [
    "df.skew()"
   ]
  },
  {
   "cell_type": "code",
   "execution_count": 150,
   "id": "ee5eb3af",
   "metadata": {},
   "outputs": [],
   "source": [
    "# keeping  -+0.5 skewness else , here are the columns not lie in the range\n",
    "#children categorical and charges \n",
    "#checking outliers in int and float values never check on categorical variable\n"
   ]
  },
  {
   "cell_type": "code",
   "execution_count": 151,
   "id": "97082448",
   "metadata": {},
   "outputs": [],
   "source": [
    "#here charges are target values no skewness correction applied\n",
    "#children is categorical column\n"
   ]
  },
  {
   "cell_type": "code",
   "execution_count": 152,
   "id": "9fd146c2",
   "metadata": {},
   "outputs": [
    {
     "data": {
      "text/plain": [
       "<AxesSubplot:>"
      ]
     },
     "execution_count": 152,
     "metadata": {},
     "output_type": "execute_result"
    },
    {
     "data": {
      "image/png": "[encoded data removed]",
      "text/plain": [
       "<Figure size 432x288 with 1 Axes>"
      ]
     },
     "metadata": {
      "needs_background": "light"
     },
     "output_type": "display_data"
    }
   ],
   "source": [
    "#checking otlier as there is large difference in 75th percentile and max\n",
    "df['charges'].plot.box()"
   ]
  },
  {
   "cell_type": "code",
   "execution_count": 153,
   "id": "c51318d5",
   "metadata": {},
   "outputs": [
    {
     "data": {
      "text/plain": [
       "<AxesSubplot:>"
      ]
     },
     "execution_count": 153,
     "metadata": {},
     "output_type": "execute_result"
    },
    {
     "data": {
      "image/png": "[encoded data removed]",
      "text/plain": [
       "<Figure size 432x288 with 1 Axes>"
      ]
     },
     "metadata": {
      "needs_background": "light"
     },
     "output_type": "display_data"
    }
   ],
   "source": [
    "df['children'].plot.box() # no outliers"
   ]
  },
  {
   "cell_type": "code",
   "execution_count": 154,
   "id": "f1811f7d",
   "metadata": {},
   "outputs": [],
   "source": [
    "#since the data has lot of string values so need to encode the data\n",
    "\n",
    "from sklearn.preprocessing import OrdinalEncoder\n",
    "enc=OrdinalEncoder()"
   ]
  },
  {
   "cell_type": "code",
   "execution_count": 155,
   "id": "d51b74ae",
   "metadata": {},
   "outputs": [],
   "source": [
    "for i in df.columns:\n",
    "    if df[i].dtypes==\"object\":\n",
    "        df[i]=enc.fit_transform(df[i].values.reshape(-1,1))"
   ]
  },
  {
   "cell_type": "code",
   "execution_count": 156,
   "id": "06d00820",
   "metadata": {},
   "outputs": [
    {
     "data": {
      "text/html": [
       "<div>\n",
       "<style scoped>\n",
       "    .dataframe tbody tr th:only-of-type {\n",
       "        vertical-align: middle;\n",
       "    }\n",
       "\n",
       "    .dataframe tbody tr th {\n",
       "        vertical-align: top;\n",
       "    }\n",
       "\n",
       "    .dataframe thead th {\n",
       "        text-align: right;\n",
       "    }\n",
       "</style>\n",
       "<table border=\"1\" class=\"dataframe\">\n",
       "  <thead>\n",
       "    <tr style=\"text-align: right;\">\n",
       "      <th></th>\n",
       "      <th>age</th>\n",
       "      <th>sex</th>\n",
       "      <th>bmi</th>\n",
       "      <th>children</th>\n",
       "      <th>smoker</th>\n",
       "      <th>region</th>\n",
       "      <th>charges</th>\n",
       "    </tr>\n",
       "  </thead>\n",
       "  <tbody>\n",
       "    <tr>\n",
       "      <th>0</th>\n",
       "      <td>19</td>\n",
       "      <td>0.0</td>\n",
       "      <td>27.900</td>\n",
       "      <td>0</td>\n",
       "      <td>1.0</td>\n",
       "      <td>3.0</td>\n",
       "      <td>16884.92400</td>\n",
       "    </tr>\n",
       "    <tr>\n",
       "      <th>1</th>\n",
       "      <td>18</td>\n",
       "      <td>1.0</td>\n",
       "      <td>33.770</td>\n",
       "      <td>1</td>\n",
       "      <td>0.0</td>\n",
       "      <td>2.0</td>\n",
       "      <td>1725.55230</td>\n",
       "    </tr>\n",
       "    <tr>\n",
       "      <th>2</th>\n",
       "      <td>28</td>\n",
       "      <td>1.0</td>\n",
       "      <td>33.000</td>\n",
       "      <td>3</td>\n",
       "      <td>0.0</td>\n",
       "      <td>2.0</td>\n",
       "      <td>4449.46200</td>\n",
       "    </tr>\n",
       "    <tr>\n",
       "      <th>3</th>\n",
       "      <td>33</td>\n",
       "      <td>1.0</td>\n",
       "      <td>22.705</td>\n",
       "      <td>0</td>\n",
       "      <td>0.0</td>\n",
       "      <td>1.0</td>\n",
       "      <td>21984.47061</td>\n",
       "    </tr>\n",
       "    <tr>\n",
       "      <th>4</th>\n",
       "      <td>32</td>\n",
       "      <td>1.0</td>\n",
       "      <td>28.880</td>\n",
       "      <td>0</td>\n",
       "      <td>0.0</td>\n",
       "      <td>1.0</td>\n",
       "      <td>3866.85520</td>\n",
       "    </tr>\n",
       "    <tr>\n",
       "      <th>...</th>\n",
       "      <td>...</td>\n",
       "      <td>...</td>\n",
       "      <td>...</td>\n",
       "      <td>...</td>\n",
       "      <td>...</td>\n",
       "      <td>...</td>\n",
       "      <td>...</td>\n",
       "    </tr>\n",
       "    <tr>\n",
       "      <th>1333</th>\n",
       "      <td>50</td>\n",
       "      <td>1.0</td>\n",
       "      <td>30.970</td>\n",
       "      <td>3</td>\n",
       "      <td>0.0</td>\n",
       "      <td>1.0</td>\n",
       "      <td>10600.54830</td>\n",
       "    </tr>\n",
       "    <tr>\n",
       "      <th>1334</th>\n",
       "      <td>18</td>\n",
       "      <td>0.0</td>\n",
       "      <td>31.920</td>\n",
       "      <td>0</td>\n",
       "      <td>0.0</td>\n",
       "      <td>0.0</td>\n",
       "      <td>2205.98080</td>\n",
       "    </tr>\n",
       "    <tr>\n",
       "      <th>1335</th>\n",
       "      <td>18</td>\n",
       "      <td>0.0</td>\n",
       "      <td>36.850</td>\n",
       "      <td>0</td>\n",
       "      <td>0.0</td>\n",
       "      <td>2.0</td>\n",
       "      <td>1629.83350</td>\n",
       "    </tr>\n",
       "    <tr>\n",
       "      <th>1336</th>\n",
       "      <td>21</td>\n",
       "      <td>0.0</td>\n",
       "      <td>25.800</td>\n",
       "      <td>0</td>\n",
       "      <td>0.0</td>\n",
       "      <td>3.0</td>\n",
       "      <td>2007.94500</td>\n",
       "    </tr>\n",
       "    <tr>\n",
       "      <th>1337</th>\n",
       "      <td>61</td>\n",
       "      <td>0.0</td>\n",
       "      <td>29.070</td>\n",
       "      <td>0</td>\n",
       "      <td>1.0</td>\n",
       "      <td>1.0</td>\n",
       "      <td>29141.36030</td>\n",
       "    </tr>\n",
       "  </tbody>\n",
       "</table>\n",
       "<p>1338 rows × 7 columns</p>\n",
       "</div>"
      ],
      "text/plain": [
       "      age  sex     bmi  children  smoker  region      charges\n",
       "0      19  0.0  27.900         0     1.0     3.0  16884.92400\n",
       "1      18  1.0  33.770         1     0.0     2.0   1725.55230\n",
       "2      28  1.0  33.000         3     0.0     2.0   4449.46200\n",
       "3      33  1.0  22.705         0     0.0     1.0  21984.47061\n",
       "4      32  1.0  28.880         0     0.0     1.0   3866.85520\n",
       "...   ...  ...     ...       ...     ...     ...          ...\n",
       "1333   50  1.0  30.970         3     0.0     1.0  10600.54830\n",
       "1334   18  0.0  31.920         0     0.0     0.0   2205.98080\n",
       "1335   18  0.0  36.850         0     0.0     2.0   1629.83350\n",
       "1336   21  0.0  25.800         0     0.0     3.0   2007.94500\n",
       "1337   61  0.0  29.070         0     1.0     1.0  29141.36030\n",
       "\n",
       "[1338 rows x 7 columns]"
      ]
     },
     "execution_count": 156,
     "metadata": {},
     "output_type": "execute_result"
    }
   ],
   "source": [
    "df"
   ]
  },
  {
   "cell_type": "code",
   "execution_count": 157,
   "id": "faa8b846",
   "metadata": {},
   "outputs": [
    {
     "data": {
      "text/plain": [
       "(1338, 7)"
      ]
     },
     "execution_count": 157,
     "metadata": {},
     "output_type": "execute_result"
    }
   ],
   "source": [
    "df.shape"
   ]
  },
  {
   "cell_type": "code",
   "execution_count": 158,
   "id": "28b5b86e",
   "metadata": {},
   "outputs": [],
   "source": [
    "# removing otliers via Z score methods\n",
    "\n",
    "from scipy.stats import zscore\n",
    "import numpy as np\n"
   ]
  },
  {
   "cell_type": "code",
   "execution_count": 159,
   "id": "6c29472f",
   "metadata": {},
   "outputs": [
    {
     "name": "stdout",
     "output_type": "stream",
     "text": [
      "(array([  32,   34,   71,  116,  166,  413,  425,  438,  543,  568,  577,\n",
      "        640,  819,  847,  877,  932,  937,  969,  984, 1047, 1085, 1116,\n",
      "       1130, 1146, 1230, 1245, 1272, 1300, 1317], dtype=int64), array([3, 6, 3, 2, 3, 3, 3, 3, 6, 3, 6, 3, 6, 2, 3, 3, 3, 3, 3, 2, 3, 3,\n",
      "       3, 6, 6, 3, 3, 6, 2], dtype=int64))\n"
     ]
    }
   ],
   "source": [
    "z=np.abs(zscore(df))\n",
    "thershold=3\n",
    "print(np.where(z>3))"
   ]
  },
  {
   "cell_type": "code",
   "execution_count": 160,
   "id": "124b32da",
   "metadata": {},
   "outputs": [
    {
     "data": {
      "text/html": [
       "<div>\n",
       "<style scoped>\n",
       "    .dataframe tbody tr th:only-of-type {\n",
       "        vertical-align: middle;\n",
       "    }\n",
       "\n",
       "    .dataframe tbody tr th {\n",
       "        vertical-align: top;\n",
       "    }\n",
       "\n",
       "    .dataframe thead th {\n",
       "        text-align: right;\n",
       "    }\n",
       "</style>\n",
       "<table border=\"1\" class=\"dataframe\">\n",
       "  <thead>\n",
       "    <tr style=\"text-align: right;\">\n",
       "      <th></th>\n",
       "      <th>age</th>\n",
       "      <th>sex</th>\n",
       "      <th>bmi</th>\n",
       "      <th>children</th>\n",
       "      <th>smoker</th>\n",
       "      <th>region</th>\n",
       "      <th>charges</th>\n",
       "    </tr>\n",
       "  </thead>\n",
       "  <tbody>\n",
       "  </tbody>\n",
       "</table>\n",
       "</div>"
      ],
      "text/plain": [
       "Empty DataFrame\n",
       "Columns: [age, sex, bmi, children, smoker, region, charges]\n",
       "Index: []"
      ]
     },
     "execution_count": 160,
     "metadata": {},
     "output_type": "execute_result"
    }
   ],
   "source": [
    "z[32:3]"
   ]
  },
  {
   "cell_type": "code",
   "execution_count": 161,
   "id": "2c60b710",
   "metadata": {},
   "outputs": [
    {
     "data": {
      "text/html": [
       "<div>\n",
       "<style scoped>\n",
       "    .dataframe tbody tr th:only-of-type {\n",
       "        vertical-align: middle;\n",
       "    }\n",
       "\n",
       "    .dataframe tbody tr th {\n",
       "        vertical-align: top;\n",
       "    }\n",
       "\n",
       "    .dataframe thead th {\n",
       "        text-align: right;\n",
       "    }\n",
       "</style>\n",
       "<table border=\"1\" class=\"dataframe\">\n",
       "  <thead>\n",
       "    <tr style=\"text-align: right;\">\n",
       "      <th></th>\n",
       "      <th>age</th>\n",
       "      <th>sex</th>\n",
       "      <th>bmi</th>\n",
       "      <th>children</th>\n",
       "      <th>smoker</th>\n",
       "      <th>region</th>\n",
       "      <th>charges</th>\n",
       "    </tr>\n",
       "  </thead>\n",
       "  <tbody>\n",
       "    <tr>\n",
       "      <th>0</th>\n",
       "      <td>19</td>\n",
       "      <td>0.0</td>\n",
       "      <td>27.900</td>\n",
       "      <td>0</td>\n",
       "      <td>1.0</td>\n",
       "      <td>3.0</td>\n",
       "      <td>16884.92400</td>\n",
       "    </tr>\n",
       "    <tr>\n",
       "      <th>1</th>\n",
       "      <td>18</td>\n",
       "      <td>1.0</td>\n",
       "      <td>33.770</td>\n",
       "      <td>1</td>\n",
       "      <td>0.0</td>\n",
       "      <td>2.0</td>\n",
       "      <td>1725.55230</td>\n",
       "    </tr>\n",
       "    <tr>\n",
       "      <th>2</th>\n",
       "      <td>28</td>\n",
       "      <td>1.0</td>\n",
       "      <td>33.000</td>\n",
       "      <td>3</td>\n",
       "      <td>0.0</td>\n",
       "      <td>2.0</td>\n",
       "      <td>4449.46200</td>\n",
       "    </tr>\n",
       "    <tr>\n",
       "      <th>3</th>\n",
       "      <td>33</td>\n",
       "      <td>1.0</td>\n",
       "      <td>22.705</td>\n",
       "      <td>0</td>\n",
       "      <td>0.0</td>\n",
       "      <td>1.0</td>\n",
       "      <td>21984.47061</td>\n",
       "    </tr>\n",
       "    <tr>\n",
       "      <th>4</th>\n",
       "      <td>32</td>\n",
       "      <td>1.0</td>\n",
       "      <td>28.880</td>\n",
       "      <td>0</td>\n",
       "      <td>0.0</td>\n",
       "      <td>1.0</td>\n",
       "      <td>3866.85520</td>\n",
       "    </tr>\n",
       "    <tr>\n",
       "      <th>...</th>\n",
       "      <td>...</td>\n",
       "      <td>...</td>\n",
       "      <td>...</td>\n",
       "      <td>...</td>\n",
       "      <td>...</td>\n",
       "      <td>...</td>\n",
       "      <td>...</td>\n",
       "    </tr>\n",
       "    <tr>\n",
       "      <th>1333</th>\n",
       "      <td>50</td>\n",
       "      <td>1.0</td>\n",
       "      <td>30.970</td>\n",
       "      <td>3</td>\n",
       "      <td>0.0</td>\n",
       "      <td>1.0</td>\n",
       "      <td>10600.54830</td>\n",
       "    </tr>\n",
       "    <tr>\n",
       "      <th>1334</th>\n",
       "      <td>18</td>\n",
       "      <td>0.0</td>\n",
       "      <td>31.920</td>\n",
       "      <td>0</td>\n",
       "      <td>0.0</td>\n",
       "      <td>0.0</td>\n",
       "      <td>2205.98080</td>\n",
       "    </tr>\n",
       "    <tr>\n",
       "      <th>1335</th>\n",
       "      <td>18</td>\n",
       "      <td>0.0</td>\n",
       "      <td>36.850</td>\n",
       "      <td>0</td>\n",
       "      <td>0.0</td>\n",
       "      <td>2.0</td>\n",
       "      <td>1629.83350</td>\n",
       "    </tr>\n",
       "    <tr>\n",
       "      <th>1336</th>\n",
       "      <td>21</td>\n",
       "      <td>0.0</td>\n",
       "      <td>25.800</td>\n",
       "      <td>0</td>\n",
       "      <td>0.0</td>\n",
       "      <td>3.0</td>\n",
       "      <td>2007.94500</td>\n",
       "    </tr>\n",
       "    <tr>\n",
       "      <th>1337</th>\n",
       "      <td>61</td>\n",
       "      <td>0.0</td>\n",
       "      <td>29.070</td>\n",
       "      <td>0</td>\n",
       "      <td>1.0</td>\n",
       "      <td>1.0</td>\n",
       "      <td>29141.36030</td>\n",
       "    </tr>\n",
       "  </tbody>\n",
       "</table>\n",
       "<p>1309 rows × 7 columns</p>\n",
       "</div>"
      ],
      "text/plain": [
       "      age  sex     bmi  children  smoker  region      charges\n",
       "0      19  0.0  27.900         0     1.0     3.0  16884.92400\n",
       "1      18  1.0  33.770         1     0.0     2.0   1725.55230\n",
       "2      28  1.0  33.000         3     0.0     2.0   4449.46200\n",
       "3      33  1.0  22.705         0     0.0     1.0  21984.47061\n",
       "4      32  1.0  28.880         0     0.0     1.0   3866.85520\n",
       "...   ...  ...     ...       ...     ...     ...          ...\n",
       "1333   50  1.0  30.970         3     0.0     1.0  10600.54830\n",
       "1334   18  0.0  31.920         0     0.0     0.0   2205.98080\n",
       "1335   18  0.0  36.850         0     0.0     2.0   1629.83350\n",
       "1336   21  0.0  25.800         0     0.0     3.0   2007.94500\n",
       "1337   61  0.0  29.070         0     1.0     1.0  29141.36030\n",
       "\n",
       "[1309 rows x 7 columns]"
      ]
     },
     "execution_count": 161,
     "metadata": {},
     "output_type": "execute_result"
    }
   ],
   "source": [
    "df_new_z=df[(z<3).all(axis=1)]\n",
    "df_new_z"
   ]
  },
  {
   "cell_type": "code",
   "execution_count": 162,
   "id": "07d63ab2",
   "metadata": {},
   "outputs": [
    {
     "data": {
      "text/plain": [
       "(1309, 7)"
      ]
     },
     "execution_count": 162,
     "metadata": {},
     "output_type": "execute_result"
    }
   ],
   "source": [
    "df_new_z.shape"
   ]
  },
  {
   "cell_type": "code",
   "execution_count": 163,
   "id": "a99eb2fe",
   "metadata": {},
   "outputs": [
    {
     "data": {
      "text/plain": [
       "2.167414050822123"
      ]
     },
     "execution_count": 163,
     "metadata": {},
     "output_type": "execute_result"
    }
   ],
   "source": [
    "#percentage of data loss:\n",
    "\n",
    "data_loss=((1338-1309)/1338)*100\n",
    "data_loss"
   ]
  },
  {
   "cell_type": "code",
   "execution_count": 164,
   "id": "1538653a",
   "metadata": {},
   "outputs": [],
   "source": [
    "features=df_new_z.drop(\"charges\",axis=1)\n",
    "target=df_new_z[\"charges\"]\n"
   ]
  },
  {
   "cell_type": "code",
   "execution_count": 165,
   "id": "f7d462f5",
   "metadata": {},
   "outputs": [],
   "source": [
    "from sklearn.preprocessing import MinMaxScaler\n",
    "mms=MinMaxScaler()\n",
    "from sklearn.linear_model import LinearRegression\n",
    "lr=LinearRegression()\n",
    "from sklearn.metrics import r2_score\n",
    "from sklearn.model_selection import train_test_split"
   ]
  },
  {
   "cell_type": "code",
   "execution_count": 166,
   "id": "f2fadc2a",
   "metadata": {},
   "outputs": [
    {
     "name": "stdout",
     "output_type": "stream",
     "text": [
      "at random state 0 the training accuracy is :  0.7417605652316128\n",
      "at random state 0 the testing accuracy is :  0.7892477599105713\n",
      "\n",
      "\n",
      "at random state 1 the training accuracy is :  -0.8030613354763245\n",
      "at random state 1 the testing accuracy is :  0.7549280680101378\n",
      "\n",
      "\n",
      "at random state 2 the training accuracy is :  -0.7643208549531841\n",
      "at random state 2 the testing accuracy is :  0.7163471107004836\n",
      "\n",
      "\n",
      "at random state 3 the training accuracy is :  -0.8303056643413438\n",
      "at random state 3 the testing accuracy is :  0.7429714679722454\n",
      "\n",
      "\n",
      "at random state 4 the training accuracy is :  -0.6656143309641911\n",
      "at random state 4 the testing accuracy is :  0.735208886673008\n",
      "\n",
      "\n",
      "at random state 5 the training accuracy is :  -0.8208807084356633\n",
      "at random state 5 the testing accuracy is :  0.7460223930639374\n",
      "\n",
      "\n",
      "at random state 6 the training accuracy is :  -0.8052382272712775\n",
      "at random state 6 the testing accuracy is :  0.7672349193524791\n",
      "\n",
      "\n",
      "at random state 7 the training accuracy is :  -0.8237950701313459\n",
      "at random state 7 the testing accuracy is :  0.7236812667176102\n",
      "\n",
      "\n",
      "at random state 8 the training accuracy is :  -0.8100743418046494\n",
      "at random state 8 the testing accuracy is :  0.7346156719767027\n",
      "\n",
      "\n",
      "at random state 9 the training accuracy is :  -0.7761487734037031\n",
      "at random state 9 the testing accuracy is :  0.779640582323085\n",
      "\n",
      "\n",
      "at random state 10 the training accuracy is :  -0.7627244281341801\n",
      "at random state 10 the testing accuracy is :  0.7856137444224738\n",
      "\n",
      "\n",
      "at random state 11 the training accuracy is :  -0.7320794509599542\n",
      "at random state 11 the testing accuracy is :  0.7500071959675432\n",
      "\n",
      "\n",
      "at random state 12 the training accuracy is :  -0.8644873526980372\n",
      "at random state 12 the testing accuracy is :  0.7661708531502773\n",
      "\n",
      "\n",
      "at random state 13 the training accuracy is :  -0.7934364317486955\n",
      "at random state 13 the testing accuracy is :  0.755656042709425\n",
      "\n",
      "\n",
      "at random state 14 the training accuracy is :  -0.6956736229569527\n",
      "at random state 14 the testing accuracy is :  0.7356133268064731\n",
      "\n",
      "\n",
      "at random state 15 the training accuracy is :  -0.9102102720118939\n",
      "at random state 15 the testing accuracy is :  0.7562378488050759\n",
      "\n",
      "\n",
      "at random state 16 the training accuracy is :  -0.7725311843622265\n",
      "at random state 16 the testing accuracy is :  0.7235164694793751\n",
      "\n",
      "\n",
      "at random state 17 the training accuracy is :  -0.8804642161049885\n",
      "at random state 17 the testing accuracy is :  0.6826422099679126\n",
      "\n",
      "\n",
      "at random state 18 the training accuracy is :  -0.7283902227007739\n",
      "at random state 18 the testing accuracy is :  0.7303350233013777\n",
      "\n",
      "\n",
      "at random state 19 the training accuracy is :  -0.7973802702879518\n",
      "at random state 19 the testing accuracy is :  0.7703265888378613\n",
      "\n",
      "\n",
      "at random state 20 the training accuracy is :  -0.7552471808887853\n",
      "at random state 20 the testing accuracy is :  0.7316187142430984\n",
      "\n",
      "\n",
      "at random state 21 the training accuracy is :  -0.8952247887472349\n",
      "at random state 21 the testing accuracy is :  0.7377066580427818\n",
      "\n",
      "\n",
      "at random state 22 the training accuracy is :  -0.7631373802451722\n",
      "at random state 22 the testing accuracy is :  0.7328246984241231\n",
      "\n",
      "\n",
      "at random state 23 the training accuracy is :  -0.7259655030316783\n",
      "at random state 23 the testing accuracy is :  0.7826738917523407\n",
      "\n",
      "\n",
      "at random state 24 the training accuracy is :  -0.8398876964891748\n",
      "at random state 24 the testing accuracy is :  0.6890041969841818\n",
      "\n",
      "\n",
      "at random state 25 the training accuracy is :  -0.7264481799248985\n",
      "at random state 25 the testing accuracy is :  0.7725077166668534\n",
      "\n",
      "\n",
      "at random state 26 the training accuracy is :  -0.9186596131395615\n",
      "at random state 26 the testing accuracy is :  0.7375174127604182\n",
      "\n",
      "\n",
      "at random state 27 the training accuracy is :  -0.846040142892373\n",
      "at random state 27 the testing accuracy is :  0.7814944675071388\n",
      "\n",
      "\n",
      "at random state 28 the training accuracy is :  -0.7820312333475141\n",
      "at random state 28 the testing accuracy is :  0.7696060877786871\n",
      "\n",
      "\n",
      "at random state 29 the training accuracy is :  -0.7512985587622223\n",
      "at random state 29 the testing accuracy is :  0.7687575449047018\n",
      "\n",
      "\n",
      "at random state 30 the training accuracy is :  -0.729344445376386\n",
      "at random state 30 the testing accuracy is :  0.7696124644579783\n",
      "\n",
      "\n",
      "at random state 31 the training accuracy is :  -0.6996445839722454\n",
      "at random state 31 the testing accuracy is :  0.7056794611243613\n",
      "\n",
      "\n",
      "at random state 32 the training accuracy is :  -0.8339610504867512\n",
      "at random state 32 the testing accuracy is :  0.7793852869391474\n",
      "\n",
      "\n",
      "at random state 33 the training accuracy is :  -0.8392228995480722\n",
      "at random state 33 the testing accuracy is :  0.7427796799871514\n",
      "\n",
      "\n",
      "at random state 34 the training accuracy is :  -0.7972703508577199\n",
      "at random state 34 the testing accuracy is :  0.7705794837433844\n",
      "\n",
      "\n",
      "at random state 35 the training accuracy is :  -0.7217057073400537\n",
      "at random state 35 the testing accuracy is :  0.7143509288494486\n",
      "\n",
      "\n",
      "at random state 36 the training accuracy is :  -0.7404903113134249\n",
      "at random state 36 the testing accuracy is :  0.7622847627683853\n",
      "\n",
      "\n",
      "at random state 37 the training accuracy is :  -0.7517955491803017\n",
      "at random state 37 the testing accuracy is :  0.8066173621547079\n",
      "\n",
      "\n",
      "at random state 38 the training accuracy is :  -0.7422684087189393\n",
      "at random state 38 the testing accuracy is :  0.6820599241614067\n",
      "\n",
      "\n",
      "at random state 39 the training accuracy is :  -0.7668065883117894\n",
      "at random state 39 the testing accuracy is :  0.7475064264598352\n",
      "\n",
      "\n",
      "at random state 40 the training accuracy is :  -0.6519029920607489\n",
      "at random state 40 the testing accuracy is :  0.7329483873027138\n",
      "\n",
      "\n",
      "at random state 41 the training accuracy is :  -0.8295670974966782\n",
      "at random state 41 the testing accuracy is :  0.7470075130770975\n",
      "\n",
      "\n",
      "at random state 42 the training accuracy is :  -0.7997670345836325\n",
      "at random state 42 the testing accuracy is :  0.7783539090730872\n",
      "\n",
      "\n",
      "at random state 43 the training accuracy is :  -0.7706014959330589\n",
      "at random state 43 the testing accuracy is :  0.734936806658741\n",
      "\n",
      "\n",
      "at random state 44 the training accuracy is :  -0.8686198049692151\n",
      "at random state 44 the testing accuracy is :  0.7308152003157584\n",
      "\n",
      "\n",
      "at random state 45 the training accuracy is :  -0.7538269052738953\n",
      "at random state 45 the testing accuracy is :  0.7651197068305147\n",
      "\n",
      "\n",
      "at random state 46 the training accuracy is :  -0.8825936520637825\n",
      "at random state 46 the testing accuracy is :  0.7572709976270744\n",
      "\n",
      "\n",
      "at random state 47 the training accuracy is :  -0.8099212767525015\n",
      "at random state 47 the testing accuracy is :  0.7249585816202341\n",
      "\n",
      "\n",
      "at random state 48 the training accuracy is :  -0.8385614209571852\n",
      "at random state 48 the testing accuracy is :  0.7756256565586005\n",
      "\n",
      "\n",
      "at random state 49 the training accuracy is :  -0.7344963826929691\n",
      "at random state 49 the testing accuracy is :  0.7434617014390579\n",
      "\n",
      "\n",
      "at random state 50 the training accuracy is :  -0.7190959940060839\n",
      "at random state 50 the testing accuracy is :  0.7729986051033431\n",
      "\n",
      "\n",
      "at random state 51 the training accuracy is :  -0.7881067336610046\n",
      "at random state 51 the testing accuracy is :  0.7340676310373904\n",
      "\n",
      "\n",
      "at random state 52 the training accuracy is :  -0.8135591262058612\n",
      "at random state 52 the testing accuracy is :  0.7118913334351131\n",
      "\n",
      "\n",
      "at random state 53 the training accuracy is :  -0.675500397461726\n",
      "at random state 53 the testing accuracy is :  0.7372471333816422\n",
      "\n",
      "\n",
      "at random state 54 the training accuracy is :  -0.8366399027691755\n",
      "at random state 54 the testing accuracy is :  0.734321592157808\n",
      "\n",
      "\n",
      "at random state 55 the training accuracy is :  -0.8376509763551547\n",
      "at random state 55 the testing accuracy is :  0.703268630132806\n",
      "\n",
      "\n",
      "at random state 56 the training accuracy is :  -0.8035147709365884\n",
      "at random state 56 the testing accuracy is :  0.7681420807129793\n",
      "\n",
      "\n",
      "at random state 57 the training accuracy is :  -0.733883328664473\n",
      "at random state 57 the testing accuracy is :  0.7934117041481266\n",
      "\n",
      "\n",
      "at random state 58 the training accuracy is :  -0.7715786604232426\n",
      "at random state 58 the testing accuracy is :  0.7507937327287066\n",
      "\n",
      "\n",
      "at random state 59 the training accuracy is :  -0.7811872063373158\n",
      "at random state 59 the testing accuracy is :  0.755843591820982\n",
      "\n",
      "\n",
      "at random state 60 the training accuracy is :  -0.7287981294064139\n",
      "at random state 60 the testing accuracy is :  0.8063347176378765\n",
      "\n",
      "\n",
      "at random state 61 the training accuracy is :  -0.7682257612875458\n",
      "at random state 61 the testing accuracy is :  0.7144106303957087\n",
      "\n",
      "\n",
      "at random state 62 the training accuracy is :  -0.7789765605060901\n",
      "at random state 62 the testing accuracy is :  0.7705746793570258\n",
      "\n",
      "\n",
      "at random state 63 the training accuracy is :  -0.8050566819517042\n",
      "at random state 63 the testing accuracy is :  0.7548910641918649\n",
      "\n",
      "\n",
      "at random state 64 the training accuracy is :  -0.7606906624286072\n",
      "at random state 64 the testing accuracy is :  0.7624187111932565\n",
      "\n",
      "\n",
      "at random state 65 the training accuracy is :  -0.7591822588050507\n",
      "at random state 65 the testing accuracy is :  0.757580429115148\n",
      "\n",
      "\n",
      "at random state 66 the training accuracy is :  -0.7156420011013664\n",
      "at random state 66 the testing accuracy is :  0.7360388689639439\n",
      "\n",
      "\n",
      "at random state 67 the training accuracy is :  -0.7965042762177958\n",
      "at random state 67 the testing accuracy is :  0.7048237503236264\n",
      "\n",
      "\n",
      "at random state 68 the training accuracy is :  -0.7391139780056275\n",
      "at random state 68 the testing accuracy is :  0.685433610570896\n",
      "\n",
      "\n"
     ]
    },
    {
     "name": "stdout",
     "output_type": "stream",
     "text": [
      "at random state 69 the training accuracy is :  -0.7594264439568372\n",
      "at random state 69 the testing accuracy is :  0.8009526052816605\n",
      "\n",
      "\n",
      "at random state 70 the training accuracy is :  -0.8776393343176845\n",
      "at random state 70 the testing accuracy is :  0.7502035032024044\n",
      "\n",
      "\n",
      "at random state 71 the training accuracy is :  -0.8400033864230052\n",
      "at random state 71 the testing accuracy is :  0.7667668564100336\n",
      "\n",
      "\n",
      "at random state 72 the training accuracy is :  -0.6936800562556087\n",
      "at random state 72 the testing accuracy is :  0.8256637902479007\n",
      "\n",
      "\n",
      "at random state 73 the training accuracy is :  -0.7759063892074884\n",
      "at random state 73 the testing accuracy is :  0.7656259384613371\n",
      "\n",
      "\n",
      "at random state 74 the training accuracy is :  -0.7570761358382623\n",
      "at random state 74 the testing accuracy is :  0.7652748111238623\n",
      "\n",
      "\n",
      "at random state 75 the training accuracy is :  -0.6646478932377482\n",
      "at random state 75 the testing accuracy is :  0.7462930050228809\n",
      "\n",
      "\n",
      "at random state 76 the training accuracy is :  -0.6806338031060151\n",
      "at random state 76 the testing accuracy is :  0.7315298145191877\n",
      "\n",
      "\n",
      "at random state 77 the training accuracy is :  -0.8685475911083644\n",
      "at random state 77 the testing accuracy is :  0.6737209921337346\n",
      "\n",
      "\n",
      "at random state 78 the training accuracy is :  -0.8003812996617388\n",
      "at random state 78 the testing accuracy is :  0.7446672249537859\n",
      "\n",
      "\n",
      "at random state 79 the training accuracy is :  -0.8341951565700119\n",
      "at random state 79 the testing accuracy is :  0.6994562660374595\n",
      "\n",
      "\n",
      "at random state 80 the training accuracy is :  -0.8220085379351332\n",
      "at random state 80 the testing accuracy is :  0.743431279724488\n",
      "\n",
      "\n",
      "at random state 81 the training accuracy is :  -0.7121483032753266\n",
      "at random state 81 the testing accuracy is :  0.806824103284967\n",
      "\n",
      "\n",
      "at random state 82 the training accuracy is :  -0.6631497154417976\n",
      "at random state 82 the testing accuracy is :  0.8136812306124636\n",
      "\n",
      "\n",
      "at random state 83 the training accuracy is :  -0.8483113736492047\n",
      "at random state 83 the testing accuracy is :  0.7481077010658315\n",
      "\n",
      "\n",
      "at random state 84 the training accuracy is :  -0.7090421891810188\n",
      "at random state 84 the testing accuracy is :  0.7187326335177306\n",
      "\n",
      "\n",
      "at random state 85 the training accuracy is :  -0.636497891582293\n",
      "at random state 85 the testing accuracy is :  0.7700983941742309\n",
      "\n",
      "\n",
      "at random state 86 the training accuracy is :  -0.8416705508838296\n",
      "at random state 86 the testing accuracy is :  0.7288956322393609\n",
      "\n",
      "\n",
      "at random state 87 the training accuracy is :  -0.9119194684781478\n",
      "at random state 87 the testing accuracy is :  0.7530275497607269\n",
      "\n",
      "\n",
      "at random state 88 the training accuracy is :  -0.836331651289026\n",
      "at random state 88 the testing accuracy is :  0.7750801518522137\n",
      "\n",
      "\n",
      "at random state 89 the training accuracy is :  -0.8018187370088461\n",
      "at random state 89 the testing accuracy is :  0.788162500602694\n",
      "\n",
      "\n",
      "at random state 90 the training accuracy is :  -0.8275930816482064\n",
      "at random state 90 the testing accuracy is :  0.7430077526735543\n",
      "\n",
      "\n",
      "at random state 91 the training accuracy is :  -0.8788078359697569\n",
      "at random state 91 the testing accuracy is :  0.6866812357084341\n",
      "\n",
      "\n",
      "at random state 92 the training accuracy is :  -0.8234291506478664\n",
      "at random state 92 the testing accuracy is :  0.726464314978662\n",
      "\n",
      "\n",
      "at random state 93 the training accuracy is :  -0.8396378117807992\n",
      "at random state 93 the testing accuracy is :  0.7827259170013209\n",
      "\n",
      "\n",
      "at random state 94 the training accuracy is :  -0.7458353862348623\n",
      "at random state 94 the testing accuracy is :  0.7581105343257559\n",
      "\n",
      "\n",
      "at random state 95 the training accuracy is :  -0.7658957296828464\n",
      "at random state 95 the testing accuracy is :  0.7800343966441207\n",
      "\n",
      "\n",
      "at random state 96 the training accuracy is :  -0.7915564903834045\n",
      "at random state 96 the testing accuracy is :  0.7758220573463124\n",
      "\n",
      "\n",
      "at random state 97 the training accuracy is :  -0.7395967372182277\n",
      "at random state 97 the testing accuracy is :  0.7222663966992873\n",
      "\n",
      "\n",
      "at random state 98 the training accuracy is :  -0.8315691903137721\n",
      "at random state 98 the testing accuracy is :  0.737626232882809\n",
      "\n",
      "\n",
      "at random state 99 the training accuracy is :  -0.8432194592914044\n",
      "at random state 99 the testing accuracy is :  0.7650873199925309\n",
      "\n",
      "\n"
     ]
    }
   ],
   "source": [
    "for i in range(0,100):\n",
    "    features_train,features_test,target_train,target_test= train_test_split(features,target,test_size=0.2,random_state=i)\n",
    "    lr.fit(features_train,target_train)\n",
    "    pred_train= lr.predict(features_train)\n",
    "    pred_test= lr.predict(features_test)\n",
    "    print(\"at random state\",i,\"the training accuracy is : \",r2_score(traget_train,pred_train))\n",
    "    print(\"at random state\",i,\"the testing accuracy is : \",r2_score(target_test,pred_test))\n",
    "    print(\"\\n\")"
   ]
  },
  {
   "cell_type": "code",
   "execution_count": 167,
   "id": "f09de325",
   "metadata": {},
   "outputs": [],
   "source": [
    "features_train,features_test,target_train,target_test= train_test_split(features,target,test_size=0.2,random_state=0)"
   ]
  },
  {
   "cell_type": "code",
   "execution_count": 168,
   "id": "ec6f2424",
   "metadata": {},
   "outputs": [
    {
     "data": {
      "text/plain": [
       "LinearRegression()"
      ]
     },
     "execution_count": 168,
     "metadata": {},
     "output_type": "execute_result"
    }
   ],
   "source": [
    "lr.fit(features_train,target_train)\n",
    "    "
   ]
  },
  {
   "cell_type": "code",
   "execution_count": 169,
   "id": "33733e27",
   "metadata": {},
   "outputs": [
    {
     "data": {
      "text/plain": [
       "7194.594212387023"
      ]
     },
     "execution_count": 169,
     "metadata": {},
     "output_type": "execute_result"
    }
   ],
   "source": [
    " pred_test= lr.predict(features_test)\n",
    "pred_test[3]\n",
    "\n"
   ]
  },
  {
   "cell_type": "code",
   "execution_count": 170,
   "id": "ed528bfd",
   "metadata": {},
   "outputs": [
    {
     "name": "stdout",
     "output_type": "stream",
     "text": [
      "0.7892477599105713\n"
     ]
    }
   ],
   "source": [
    "print(r2_score(target_test,pred_test))"
   ]
  },
  {
   "cell_type": "code",
   "execution_count": 171,
   "id": "2622ee28",
   "metadata": {},
   "outputs": [
    {
     "name": "stdout",
     "output_type": "stream",
     "text": [
      "at cross fold  2 the cv score is  0.7507263874653844 and accuracy for train set -0.8432194592914044  and test set is  0.7892477599105713\n",
      "\n",
      "\n",
      "at cross fold  3 the cv score is  0.7482863513140566 and accuracy for train set -0.8432194592914044  and test set is  0.7892477599105713\n",
      "\n",
      "\n",
      "at cross fold  4 the cv score is  0.7464940705596477 and accuracy for train set -0.8432194592914044  and test set is  0.7892477599105713\n",
      "\n",
      "\n",
      "at cross fold  5 the cv score is  0.7507037701961408 and accuracy for train set -0.8432194592914044  and test set is  0.7892477599105713\n",
      "\n",
      "\n",
      "at cross fold  6 the cv score is  0.7479467120567999 and accuracy for train set -0.8432194592914044  and test set is  0.7892477599105713\n",
      "\n",
      "\n",
      "at cross fold  7 the cv score is  0.7476013200228121 and accuracy for train set -0.8432194592914044  and test set is  0.7892477599105713\n",
      "\n",
      "\n",
      "at cross fold  8 the cv score is  0.7450165785585103 and accuracy for train set -0.8432194592914044  and test set is  0.7892477599105713\n",
      "\n",
      "\n",
      "at cross fold  9 the cv score is  0.7459578432259708 and accuracy for train set -0.8432194592914044  and test set is  0.7892477599105713\n",
      "\n",
      "\n"
     ]
    }
   ],
   "source": [
    "#cross validation\n",
    "\n",
    "Train_accuracy=r2_score(target_train,pred_train)\n",
    "Test_accuracy=r2_score(target_test,pred_test)\n",
    "\n",
    "from sklearn.model_selection import cross_val_score\n",
    "for j in range(2,10):\n",
    "    cv_score=cross_val_score(lr,features,target,cv=j)\n",
    "    cv_mean=cv_score.mean()\n",
    "    print(\"at cross fold \",j,\"the cv score is \",cv_mean,\"and accuracy for train set\",Train_accuracy,\" and test set is \",Test_accuracy)\n",
    "    print(\"\\n\")"
   ]
  },
  {
   "cell_type": "code",
   "execution_count": 172,
   "id": "56772df3",
   "metadata": {},
   "outputs": [
    {
     "data": {
      "image/png": "[encoded data removed]",
      "text/plain": [
       "<Figure size 576x432 with 1 Axes>"
      ]
     },
     "metadata": {
      "needs_background": "light"
     },
     "output_type": "display_data"
    }
   ],
   "source": [
    "import matplotlib.pyplot as plt\n",
    "plt.figure(figsize=(8,6))\n",
    "plt.scatter(x=target_test,y=pred_test,color='r')\n",
    "plt.plot(target_test,target_test,color='b')\n",
    "plt.show()"
   ]
  },
  {
   "cell_type": "code",
   "execution_count": 173,
   "id": "ea8d3a17",
   "metadata": {},
   "outputs": [],
   "source": [
    "# predicting value with new data set\n",
    "\n",
    "t=np.array([[28,0.0,33.00,3,0.0,2.0]])"
   ]
  },
  {
   "cell_type": "code",
   "execution_count": 174,
   "id": "474b3f61",
   "metadata": {},
   "outputs": [
    {
     "data": {
      "text/plain": [
       "array([[28.,  0., 33.,  3.,  0.,  2.]])"
      ]
     },
     "execution_count": 174,
     "metadata": {},
     "output_type": "execute_result"
    }
   ],
   "source": [
    "t.reshape(1,-1)"
   ]
  },
  {
   "cell_type": "code",
   "execution_count": 175,
   "id": "007339ad",
   "metadata": {},
   "outputs": [
    {
     "data": {
      "text/plain": [
       "array([7323.04008209])"
      ]
     },
     "execution_count": 175,
     "metadata": {},
     "output_type": "execute_result"
    }
   ],
   "source": [
    "lr.predict(t)"
   ]
  },
  {
   "cell_type": "code",
   "execution_count": 177,
   "id": "ab4029d4",
   "metadata": {},
   "outputs": [],
   "source": [
    "from sklearn.metrics import r2_score\n",
    "from sklearn.metrics import mean_absolute_error\n",
    "from sklearn.metrics import mean_squared_error\n",
    "from sklearn.linear_model import Lasso,Ridge\n",
    "from sklearn.svm import SVR\n",
    "from sklearn.tree import DecisionTreeRegressor\n",
    "from sklearn.neighbors import KNeighborsRegressor"
   ]
  },
  {
   "cell_type": "code",
   "execution_count": 178,
   "id": "0633472f",
   "metadata": {},
   "outputs": [
    {
     "name": "stdout",
     "output_type": "stream",
     "text": [
      "error: DecisionTreeRegressor()\n",
      "Mean absolute error: 3242.7353880496185\n",
      "Mean squared error: 42910926.22303925\n",
      "Root Mean Squared error: 6550.643191552967\n",
      "error: SVR()\n",
      "Mean absolute error: 8736.718343162423\n",
      "Mean squared error: 175303452.03224596\n",
      "Root Mean Squared error: 13240.220996352213\n",
      "error: KNeighborsRegressor()\n",
      "Mean absolute error: 7938.202980721375\n",
      "Mean squared error: 141098535.80489752\n",
      "Root Mean Squared error: 11878.490468274895\n",
      "error: Lasso(alpha=0.0001)\n",
      "Mean absolute error: 4151.58177768361\n",
      "Mean squared error: 32867489.200107757\n",
      "Root Mean Squared error: 5733.01746030027\n",
      "error: Ridge(alpha=0.0001)\n",
      "Mean absolute error: 4151.583365353322\n",
      "Mean squared error: 32867498.041052893\n",
      "Root Mean Squared error: 5733.018231355356\n"
     ]
    }
   ],
   "source": [
    "dtr=DecisionTreeRegressor()\n",
    "svr=SVR()\n",
    "knr=KNeighborsRegressor()\n",
    "ls=Lasso(alpha=0.0001)\n",
    "rd=Ridge(alpha=0.0001)\n",
    "features_train,features_test,target_train,target_test\n",
    "model=[dtr,svr,knr,ls,rd]\n",
    "\n",
    "for m in model:\n",
    "    m.fit(features_train,target_train)\n",
    "    pred=m.predict(features_test)\n",
    "    print('error:',m)\n",
    "    print('Mean absolute error:',mean_absolute_error(target_test,pred))\n",
    "    print('Mean squared error:',mean_squared_error(target_test,pred))\n",
    "    print('Root Mean Squared error:',np.sqrt(mean_squared_error(target_test,pred)))"
   ]
  },
  {
   "cell_type": "code",
   "execution_count": 179,
   "id": "65076146",
   "metadata": {},
   "outputs": [
    {
     "name": "stdout",
     "output_type": "stream",
     "text": [
      "score: DecisionTreeRegressor()\n",
      "0.7330571188795545\n",
      "score: SVR()\n",
      "-0.12407720384108023\n",
      "score: KNeighborsRegressor()\n",
      "0.0952508592673621\n",
      "score: Lasso(alpha=0.0001)\n",
      "0.7892477590769968\n",
      "score: Ridge(alpha=0.0001)\n",
      "0.7892477023872696\n"
     ]
    }
   ],
   "source": [
    "for m in model:\n",
    "    m.fit(features_train,target_train)\n",
    "    pred=m.predict(features_test)\n",
    "    print('score:',m)\n",
    "    print(r2_score(target_test,pred))"
   ]
  },
  {
   "cell_type": "code",
   "execution_count": null,
   "id": "e82498ec",
   "metadata": {},
   "outputs": [],
   "source": [
    "#here we can see the best model comes with Linear regression so saving the best model."
   ]
  },
  {
   "cell_type": "code",
   "execution_count": 180,
   "id": "12087462",
   "metadata": {},
   "outputs": [],
   "source": [
    "import joblib\n",
    "joblib.dump(lr, \"LR_Medicalcost.obj\")\n",
    "\n",
    "lr_from_joblib =joblib.load(\"LR_Medicalcost.obj\")"
   ]
  },
  {
   "cell_type": "code",
   "execution_count": null,
   "id": "37732e03",
   "metadata": {},
   "outputs": [],
   "source": []
  }
 ],
 "metadata": {
  "kernelspec": {
   "display_name": "Python 3 (ipykernel)",
   "language": "python",
   "name": "python3"
  },
  "language_info": {
   "codemirror_mode": {
    "name": "ipython",
    "version": 3
   },
   "file_extension": ".py",
   "mimetype": "text/x-python",
   "name": "python",
   "nbconvert_exporter": "python",
   "pygments_lexer": "ipython3",
   "version": "3.9.7"
  }
 },
 "nbformat": 4,
 "nbformat_minor": 5
}
